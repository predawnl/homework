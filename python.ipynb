{
 "cells": [
  {
   "cell_type": "code",
   "execution_count": 1,
   "metadata": {},
   "outputs": [],
   "source": [
    "# drawtree.py\n",
    "  \n",
    "from turtle import Turtle, mainloop\n",
    "  \n",
    "def tree(plist, l, a, f):\n",
    "  if l > 5: #\n",
    "    lst = []\n",
    "    for p in plist:\n",
    "      p.forward(l)#沿着当前的方向画画\n",
    "      q = p.clone()\n",
    "      p.left(a) \n",
    "      q.right(a)\n",
    "      lst.append(p)#将元素增加到列表的最后\n",
    "      lst.append(q)\n",
    "    tree(lst, l*f, a, f)\n",
    "   \n",
    "       \n",
    "  \n",
    "def main():\n",
    "  p = Turtle()\n",
    "  p.color(\"green\")\n",
    "  p.pensize(5)\n",
    "  p.hideturtle() \n",
    "  p.speed(10)\n",
    "  p.left(90)\n",
    "  \n",
    "  p.penup() \n",
    "  p.goto(0,-200)\n",
    "  p.pendown()\n",
    "  \n",
    "  t = tree([p], 200, 65, 0.6375)\n",
    "    \n",
    "main()"
   ]
  },
  {
   "cell_type": "code",
   "execution_count": null,
   "metadata": {},
   "outputs": [],
   "source": []
  },
  {
   "cell_type": "code",
   "execution_count": null,
   "metadata": {},
   "outputs": [],
   "source": []
  },
  {
   "cell_type": "code",
   "execution_count": null,
   "metadata": {},
   "outputs": [],
   "source": []
  }
 ],
 "metadata": {
  "kernelspec": {
   "display_name": "Python 3",
   "language": "python",
   "name": "python3"
  },
  "language_info": {
   "codemirror_mode": {
    "name": "ipython",
    "version": 3
   },
   "file_extension": ".py",
   "mimetype": "text/x-python",
   "name": "python",
   "nbconvert_exporter": "python",
   "pygments_lexer": "ipython3",
   "version": "3.7.4"
  }
 },
 "nbformat": 4,
 "nbformat_minor": 2
}
